{
 "cells": [
  {
   "cell_type": "markdown",
   "metadata": {},
   "source": [
    "# Pandas Analysis and Reshaping "
   ]
  },
  {
   "cell_type": "markdown",
   "metadata": {},
   "source": [
    "## Overview "
   ]
  },
  {
   "cell_type": "markdown",
   "metadata": {},
   "source": [
    "Easier to work with a single `DataFrame` that you can slice, reshape, and aggregate.\n",
    "\n",
    "No lists of `DataFrames`, `list`, etc.\n",
    "\n",
    "<hr>\n",
    "\n",
    "**`groupby`**:  Create aggreate tables with a single or multiple-index.\n",
    "\n",
    "**`pivot`**: Create aggregate tables with two single or multiple-indecies.\n",
    "\n",
    "**`melt`**: Reverse of `pivot`.\n",
    "\n",
    "<hr>\n",
    "\n",
    "`pivot` + *multiple index* is great for timeseries operations.\n",
    "\n",
    "\n",
    "### Goal\n",
    "\n",
    "Demonstrate how these concepts enabled the advanced analysis on a project with Vermont. \n",
    "\n",
    "Inspire this technique."
   ]
  },
  {
   "cell_type": "code",
   "execution_count": null,
   "metadata": {},
   "outputs": [],
   "source": [
    "import pandas as pd\n",
    "\n",
    "import seaborn as sns\n",
    "import matplotlib.pyplot as plt\n",
    "\n",
    "sns.set(rc={'figure.figsize':(12,6)})\n",
    "plt.style.use(['seaborn-whitegrid'])\n",
    "\n",
    "import warnings\n",
    "warnings.simplefilter('ignore')\n",
    "\n",
    "import utils"
   ]
  },
  {
   "cell_type": "markdown",
   "metadata": {},
   "source": [
    "## Apply revisit"
   ]
  },
  {
   "cell_type": "code",
   "execution_count": null,
   "metadata": {},
   "outputs": [],
   "source": [
    "filenames = ['data/measured_real_power.csv',\n",
    "             'data/measured_reactive_power.csv']\n",
    "\n",
    "df = utils.read_dir(filenames)\n",
    "df.shape"
   ]
  },
  {
   "cell_type": "code",
   "execution_count": null,
   "metadata": {},
   "outputs": [],
   "source": [
    "df.head()"
   ]
  },
  {
   "cell_type": "markdown",
   "metadata": {},
   "source": [
    "### Pivoting and grouping"
   ]
  },
  {
   "cell_type": "code",
   "execution_count": null,
   "metadata": {},
   "outputs": [],
   "source": [
    "pivot = df.pivot_table(index='timestamp', columns=['variable', 'attribute'], values='value')\n",
    "pivot.head()"
   ]
  },
  {
   "cell_type": "code",
   "execution_count": null,
   "metadata": {},
   "outputs": [],
   "source": [
    "def func(x):\n",
    "    return x.name, x.shape\n",
    "\n",
    "pivot.groupby(level=0, axis=1).apply(func)"
   ]
  },
  {
   "cell_type": "code",
   "execution_count": null,
   "metadata": {},
   "outputs": [],
   "source": [
    "import math\n",
    "def compute_mag(df):\n",
    "    total =  (df['measured_real_power']*df['measured_real_power'] + \n",
    "              df['measured_reactive_power']*df['measured_reactive_power'])\n",
    "    \n",
    "    return total.apply(math.sqrt)\n",
    "\n",
    "def func(x):\n",
    "    return compute_mag(x[x.name])\n",
    "\n",
    "mag = pivot.groupby(level=0, axis=1).apply(func)\n",
    "mag.head()"
   ]
  },
  {
   "cell_type": "code",
   "execution_count": null,
   "metadata": {},
   "outputs": [],
   "source": [
    "mag_stack = mag.reset_index().melt(id_vars='timestamp')\n",
    "mag_stack['attribute'] = 'magnitude'\n",
    "mag_stack.head()"
   ]
  },
  {
   "cell_type": "code",
   "execution_count": null,
   "metadata": {},
   "outputs": [],
   "source": [
    "df.shape, mag_stack.shape"
   ]
  },
  {
   "cell_type": "code",
   "execution_count": null,
   "metadata": {},
   "outputs": [],
   "source": [
    "pd.concat([df, mag_stack], axis=0).shape"
   ]
  },
  {
   "cell_type": "markdown",
   "metadata": {},
   "source": [
    "## The Vermont Project "
   ]
  },
  {
   "cell_type": "markdown",
   "metadata": {},
   "source": [
    "### Characteristic\n",
    "\n",
    "<hr>\n",
    "\n",
    "Two feeders\n",
    "\n",
    "Two seasons\n",
    "\n",
    "1000 Waterheaters\n",
    "\n",
    "Several control algorithms\n",
    "\n",
    "Sometimes solar and batteries... \n",
    "\n",
    "**Many simulations**"
   ]
  },
  {
   "cell_type": "markdown",
   "metadata": {},
   "source": [
    "### Questions\n",
    "\n",
    "<hr>\n",
    "\n",
    "What happends to the peak load?\n",
    "\n",
    "What happends to the voltage?\n",
    "\n",
    "What happends to the comfort of the customer?  We are **focusing** on this."
   ]
  },
  {
   "cell_type": "markdown",
   "metadata": {},
   "source": [
    "## The comfort data "
   ]
  },
  {
   "cell_type": "markdown",
   "metadata": {},
   "source": [
    "Original files on NREL's HPC\n",
    "\n",
    "1 minute resolution for 14 days\n",
    "\n",
    "One file per attribute (e.g. flow rate, water temperature)\n",
    "\n",
    "This dataset is a collection of events where:\n",
    "\n",
    "1. flow rate: **positive demand** (demand > 0) and **shower demand** (demand > 0.4)\n",
    "2. temperature was below **110** and **105**\n",
    "\n",
    "We use a `shift` value from the peak of a particular days to make the results align.\n",
    "\n",
    "<br>\n",
    "\n",
    "\n",
    "*Collected into a standard form for each simulation and concatenated into a single file*\n",
    "\n",
    "\n",
    "<br>"
   ]
  },
  {
   "cell_type": "markdown",
   "metadata": {},
   "source": [
    "The data"
   ]
  },
  {
   "cell_type": "code",
   "execution_count": null,
   "metadata": {},
   "outputs": [],
   "source": [
    "df = pd.read_csv(\"data/comfort_data.csv.gz\",  compression='gzip')\n",
    "\n",
    "# limit the data a bit...\n",
    "qry = [\"solar==0\",\n",
    "       \"days==14\",\n",
    "       \"strategy in ['no_control', 'smooth', 'single_bucket']\"]\n",
    "\n",
    "df = df.query(\" and \".join(qry))\n",
    "df.timestamp = pd.to_datetime(df.timestamp)\n",
    "df.shape"
   ]
  },
  {
   "cell_type": "code",
   "execution_count": null,
   "metadata": {},
   "outputs": [],
   "source": [
    "df.head()"
   ]
  },
  {
   "cell_type": "code",
   "execution_count": null,
   "metadata": {},
   "outputs": [],
   "source": [
    "(len(df.name.unique()), \n",
    "len(df.feeder.unique()), \n",
    "len(df.season.unique()),\n",
    "len(df.strategy.unique()), \n",
    "len(df.control.unique()))"
   ]
  },
  {
   "cell_type": "markdown",
   "metadata": {},
   "source": [
    "##  Reshaping with Pandas"
   ]
  },
  {
   "cell_type": "markdown",
   "metadata": {},
   "source": [
    "`groupby`\n",
    "\n",
    "`pivot_table`\n",
    "\n",
    "`melt`\n",
    "\n",
    "`applying`"
   ]
  },
  {
   "cell_type": "markdown",
   "metadata": {},
   "source": [
    "Warm up with a single simulation... cuts down on the details."
   ]
  },
  {
   "cell_type": "code",
   "execution_count": null,
   "metadata": {},
   "outputs": [],
   "source": [
    "qry = [\"feeder=='one'\",\n",
    "       \"season=='summer'\",\n",
    "       \"strategy=='no_control'\",\n",
    "       \"control==0\",\n",
    "       \"attribute=='shower demand 110'\"]\n",
    "\n",
    "tmp = df.query(\" and \".join(qry))\n",
    "tmp.shape"
   ]
  },
  {
   "cell_type": "markdown",
   "metadata": {},
   "source": [
    "How many unique customers are impacted over the period?"
   ]
  },
  {
   "cell_type": "code",
   "execution_count": null,
   "metadata": {},
   "outputs": [],
   "source": [
    "len(tmp.name.unique())"
   ]
  },
  {
   "cell_type": "markdown",
   "metadata": {},
   "source": [
    "How long is the period?"
   ]
  },
  {
   "cell_type": "code",
   "execution_count": null,
   "metadata": {},
   "outputs": [],
   "source": [
    "tmp.timestamp.max() - tmp.timestamp.min()"
   ]
  },
  {
   "cell_type": "markdown",
   "metadata": {},
   "source": [
    "How many unique customer impacted per day?"
   ]
  },
  {
   "cell_type": "markdown",
   "metadata": {},
   "source": [
    "#### `groupby`"
   ]
  },
  {
   "cell_type": "code",
   "execution_count": null,
   "metadata": {},
   "outputs": [],
   "source": [
    "tmp.head()"
   ]
  },
  {
   "cell_type": "code",
   "execution_count": null,
   "metadata": {},
   "outputs": [],
   "source": [
    "grp = tmp.groupby(['day', 'name'])['value'].count()\n",
    "grp.head(20)"
   ]
  },
  {
   "cell_type": "code",
   "execution_count": null,
   "metadata": {},
   "outputs": [],
   "source": [
    "grp.reset_index().groupby(['day'])['name'].count()"
   ]
  },
  {
   "cell_type": "code",
   "execution_count": null,
   "metadata": {},
   "outputs": [],
   "source": [
    "grp.reset_index().groupby(['day'])['name'].count().plot(kind='barh')"
   ]
  },
  {
   "cell_type": "code",
   "execution_count": null,
   "metadata": {},
   "outputs": [],
   "source": [
    "grp.reset_index().groupby(['day'])['name'].count().mean()"
   ]
  },
  {
   "cell_type": "markdown",
   "metadata": {},
   "source": [
    "#### Another method  `pivot_table`"
   ]
  },
  {
   "cell_type": "code",
   "execution_count": null,
   "metadata": {},
   "outputs": [],
   "source": [
    "piv = tmp.pivot_table(index='day', \n",
    "                      columns='name', \n",
    "                      values='value', \n",
    "                      aggfunc='count')\n",
    "piv.head()"
   ]
  },
  {
   "cell_type": "markdown",
   "metadata": {},
   "source": [
    "I count because I want unique customers not total events."
   ]
  },
  {
   "cell_type": "code",
   "execution_count": null,
   "metadata": {},
   "outputs": [],
   "source": [
    "piv.count(axis=1).plot(kind='barh')"
   ]
  },
  {
   "cell_type": "markdown",
   "metadata": {},
   "source": [
    "A customer was impacted more than once."
   ]
  },
  {
   "cell_type": "code",
   "execution_count": null,
   "metadata": {},
   "outputs": [],
   "source": [
    "grp.reset_index().groupby(['day'])['name'].count().sum(), len(tmp.name.unique())"
   ]
  },
  {
   "cell_type": "markdown",
   "metadata": {},
   "source": [
    "Events per customer?"
   ]
  },
  {
   "cell_type": "code",
   "execution_count": null,
   "metadata": {},
   "outputs": [],
   "source": [
    "tmp.groupby(['name'])['value'].count().plot(kind='hist', bins=50)"
   ]
  },
  {
   "cell_type": "markdown",
   "metadata": {},
   "source": [
    "Check on the number of events?"
   ]
  },
  {
   "cell_type": "code",
   "execution_count": null,
   "metadata": {},
   "outputs": [],
   "source": [
    "tmp.groupby(['name'])['value'].count().sum()"
   ]
  },
  {
   "cell_type": "markdown",
   "metadata": {},
   "source": [
    "## Question\n",
    "\n",
    "### What is the average % of customers impacted as a function of time?"
   ]
  },
  {
   "cell_type": "code",
   "execution_count": null,
   "metadata": {},
   "outputs": [],
   "source": [
    "grp = tmp.groupby(['shift', 'day', 'name'])['value'].count()\n",
    "grp.head()"
   ]
  },
  {
   "cell_type": "code",
   "execution_count": null,
   "metadata": {},
   "outputs": [],
   "source": [
    "grp2 = grp.reset_index().groupby(['shift', 'day'])['value'].sum()\n",
    "grp2.head()"
   ]
  },
  {
   "cell_type": "markdown",
   "metadata": {},
   "source": [
    "Make a pivot of the number of events per day (columns) as a function of shift (rows)"
   ]
  },
  {
   "cell_type": "code",
   "execution_count": null,
   "metadata": {},
   "outputs": [],
   "source": [
    "piv = grp2.reset_index().pivot_table(index='shift', \n",
    "                                     columns='day', \n",
    "                                     values='value').fillna(0)\n",
    "piv.head()"
   ]
  },
  {
   "cell_type": "code",
   "execution_count": null,
   "metadata": {},
   "outputs": [],
   "source": [
    "piv.plot()"
   ]
  },
  {
   "cell_type": "markdown",
   "metadata": {},
   "source": [
    "Check on the number of events."
   ]
  },
  {
   "cell_type": "code",
   "execution_count": null,
   "metadata": {},
   "outputs": [],
   "source": [
    "piv.sum().sum()"
   ]
  },
  {
   "cell_type": "markdown",
   "metadata": {},
   "source": [
    "Events per minute."
   ]
  },
  {
   "cell_type": "code",
   "execution_count": null,
   "metadata": {},
   "outputs": [],
   "source": [
    "piv.fillna(0).mean(axis=1).plot()"
   ]
  },
  {
   "cell_type": "markdown",
   "metadata": {},
   "source": [
    "####  What did we do?"
   ]
  },
  {
   "cell_type": "code",
   "execution_count": null,
   "metadata": {},
   "outputs": [],
   "source": [
    "final = (tmp.groupby(['shift', 'day', 'name'])['value'].count()\n",
    "            .reset_index().groupby(['shift', 'day'])['value'].sum()\n",
    "            .reset_index().pivot_table(index='shift', \n",
    "                                       columns='day', \n",
    "                                       values='value').fillna(0)\n",
    "            .mean(axis=1)\n",
    ")\n",
    "\n",
    "final.plot()"
   ]
  },
  {
   "cell_type": "markdown",
   "metadata": {},
   "source": [
    "Using the multi-level pivot."
   ]
  },
  {
   "cell_type": "code",
   "execution_count": null,
   "metadata": {},
   "outputs": [],
   "source": [
    "piv = tmp.pivot_table(index='shift', \n",
    "                      columns=['day', 'name'],\n",
    "                      values='value', \n",
    "                      aggfunc='count')\n",
    "piv.head()"
   ]
  },
  {
   "cell_type": "markdown",
   "metadata": {},
   "source": [
    "Check totals..."
   ]
  },
  {
   "cell_type": "code",
   "execution_count": null,
   "metadata": {},
   "outputs": [],
   "source": [
    "piv.sum(axis=1).sum()"
   ]
  },
  {
   "cell_type": "code",
   "execution_count": null,
   "metadata": {},
   "outputs": [],
   "source": [
    "piv1 = piv.sum(axis=1, level=0).fillna(0)\n",
    "piv1.head()"
   ]
  },
  {
   "cell_type": "code",
   "execution_count": null,
   "metadata": {},
   "outputs": [],
   "source": [
    "piv1.mean(axis=1).plot()"
   ]
  },
  {
   "cell_type": "markdown",
   "metadata": {},
   "source": [
    "Recap in 4 steps"
   ]
  },
  {
   "cell_type": "code",
   "execution_count": null,
   "metadata": {},
   "outputs": [],
   "source": [
    "final = (tmp.pivot_table(index='shift', \n",
    "                         columns=['day', 'name'],\n",
    "                         values='value', \n",
    "                         aggfunc='count')\n",
    "            .sum(axis=1, level=0)\n",
    "            .fillna(0)\n",
    "            .mean(axis=1))\n",
    "        \n",
    "final.plot()"
   ]
  },
  {
   "cell_type": "markdown",
   "metadata": {},
   "source": [
    "**groupby + pivot**\n",
    "\n",
    "```python\n",
    "final = (tmp.groupby(['shift', 'day', 'name'])['value'].count()\n",
    "            .reset_index().groupby(['shift', 'day'])['value'].sum()\n",
    "            .reset_index().pivot_table(index='shift', \n",
    "                                       columns='day', \n",
    "                                       values='value')\n",
    "            .fillna(0)\n",
    "            .mean(axis=1)\n",
    ")\n",
    "```\n",
    "\n",
    "**multi-level pivot**\n",
    "\n",
    "```python\n",
    "final = (tmp.pivot_table(index='shift', \n",
    "                         columns=['day', 'name'],\n",
    "                         values='value', \n",
    "                         aggfunc='count')\n",
    "            .sum(axis=1, level=0)\n",
    "            .fillna(0)\n",
    "            .mean(axis=1))\n",
    "```"
   ]
  },
  {
   "cell_type": "markdown",
   "metadata": {},
   "source": [
    "Number of events every 10 minutes."
   ]
  },
  {
   "cell_type": "code",
   "execution_count": null,
   "metadata": {},
   "outputs": [],
   "source": [
    "import datetime \n",
    "\n",
    "freq = \"10min\"\n",
    "\n",
    "final = (tmp.pivot_table(index='shift', \n",
    "                         columns=['day', 'name'],\n",
    "                         values='value', \n",
    "                         aggfunc='count')\n",
    "            .sum(axis=1, level=0)\n",
    "            .fillna(0))\n",
    "\n",
    "dt_index = (pd.to_datetime(\"2013-07-01 13:00:00\") + \n",
    "            final.index.map(lambda x: datetime.timedelta(hours=x)))\n",
    "\n",
    "sample = final.set_index(dt_index).resample(freq).sum().fillna(0)\n",
    "sample.index = (sample.index - pd.to_datetime(\"2013-07-01 13:00:00\")).map(lambda x: x.total_seconds()/60./60.)\n",
    "\n",
    "sample.mean(axis=1).plot()"
   ]
  },
  {
   "cell_type": "markdown",
   "metadata": {},
   "source": [
    "What we did.."
   ]
  },
  {
   "cell_type": "code",
   "execution_count": null,
   "metadata": {},
   "outputs": [],
   "source": [
    "final = tmp.pivot_table(index='shift', columns=['day', 'name'], values='value', aggfunc='count')\n",
    "            \n",
    "final = final.sum(axis=1, level=0).fillna(0)\n",
    "\n",
    "dt_index = pd.to_datetime(\"2013-07-01 13:00:00\") + final.index.map(lambda x: datetime.timedelta(hours=x))\n",
    "sample = final.set_index(dt_index).resample(freq).sum().fillna(0)\n",
    "sample.index = (sample.index - pd.to_datetime(\"2013-07-01 13:00:00\")).map(lambda x: x.total_seconds()/60./60.)\n",
    "\n",
    "sample.mean(axis=1).plot()"
   ]
  },
  {
   "cell_type": "markdown",
   "metadata": {},
   "source": [
    "## Many simulations"
   ]
  },
  {
   "cell_type": "code",
   "execution_count": null,
   "metadata": {},
   "outputs": [],
   "source": [
    "qry = [\"feeder=='one'\",\n",
    "       \"season=='summer'\",\n",
    "       \"attribute=='shower demand 110'\"]\n",
    "\n",
    "tmp = df.query(\" and \".join(qry))"
   ]
  },
  {
   "cell_type": "code",
   "execution_count": null,
   "metadata": {},
   "outputs": [],
   "source": [
    "final = tmp.pivot_table(index='shift', \n",
    "                         columns=['feeder', 'season', 'strategy', 'control', 'day', 'name'], \n",
    "                         values='value', \n",
    "                         aggfunc='count')\n",
    "final.head()"
   ]
  },
  {
   "cell_type": "code",
   "execution_count": null,
   "metadata": {},
   "outputs": [],
   "source": [
    "final = final.sum(axis=1, level=[0,1,2,3,4]).fillna(0)\n",
    "final.head()"
   ]
  },
  {
   "cell_type": "code",
   "execution_count": null,
   "metadata": {},
   "outputs": [],
   "source": [
    "dt_index = pd.to_datetime(\"2013-07-01 13:00:00\") + final.index.map(lambda x: datetime.timedelta(hours=x))\n",
    "sample = final.set_index(dt_index).resample('15min').sum().fillna(0)\n",
    "sample.index = (sample.index - pd.to_datetime(\"2013-07-01 13:00:00\")).map(lambda x: x.total_seconds()/60./60.)\n",
    "sample.head()"
   ]
  },
  {
   "cell_type": "code",
   "execution_count": null,
   "metadata": {},
   "outputs": [],
   "source": [
    "sample = sample.mean(axis=1, level=[0,1,2,3])\n",
    "sample.head()"
   ]
  },
  {
   "cell_type": "code",
   "execution_count": null,
   "metadata": {},
   "outputs": [],
   "source": [
    "sample[('one', 'summer', 'no_control')].plot()"
   ]
  },
  {
   "cell_type": "markdown",
   "metadata": {},
   "source": [
    "Look at all scenarios"
   ]
  },
  {
   "cell_type": "code",
   "execution_count": null,
   "metadata": {},
   "outputs": [],
   "source": [
    "fig, ax = plt.subplots(3,1, figsize=(10,6), sharex=True, sharey=True)\n",
    "\n",
    "sample[('one', 'summer', 'no_control')].plot(ax=ax[0])\n",
    "sample[('one', 'summer', 'smooth')].plot(ax=ax[1])\n",
    "sample[('one', 'summer', 'single_bucket')].plot(ax=ax[2])\n",
    "\n",
    "plt.tight_layout()"
   ]
  },
  {
   "cell_type": "code",
   "execution_count": null,
   "metadata": {},
   "outputs": [],
   "source": [
    "sample['one'].plot()"
   ]
  },
  {
   "cell_type": "code",
   "execution_count": null,
   "metadata": {},
   "outputs": [],
   "source": []
  }
 ],
 "metadata": {
  "kernelspec": {
   "display_name": "Python 3",
   "language": "python",
   "name": "python3"
  },
  "language_info": {
   "codemirror_mode": {
    "name": "ipython",
    "version": 3
   },
   "file_extension": ".py",
   "mimetype": "text/x-python",
   "name": "python",
   "nbconvert_exporter": "python",
   "pygments_lexer": "ipython3",
   "version": "3.6.8"
  }
 },
 "nbformat": 4,
 "nbformat_minor": 2
}
