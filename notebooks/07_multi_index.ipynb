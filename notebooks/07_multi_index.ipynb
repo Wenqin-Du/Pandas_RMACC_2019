{
 "cells": [
  {
   "cell_type": "markdown",
   "metadata": {},
   "source": [
    "# Pivot mult-indexing + apply"
   ]
  },
  {
   "cell_type": "code",
   "execution_count": null,
   "metadata": {},
   "outputs": [],
   "source": [
    "import pandas as pd\n",
    "import datetime\n",
    "import seaborn as sns\n",
    "import matplotlib.pyplot as plt\n",
    "\n",
    "sns.set(rc={'figure.figsize':(12,6)})\n",
    "plt.style.use(['seaborn-whitegrid'])\n",
    "\n",
    "import warnings\n",
    "warnings.simplefilter('ignore')\n",
    "\n",
    "import utils"
   ]
  },
  {
   "cell_type": "markdown",
   "metadata": {},
   "source": [
    "Recap from previous notebook"
   ]
  },
  {
   "cell_type": "code",
   "execution_count": null,
   "metadata": {},
   "outputs": [],
   "source": [
    "freq = \"10min\"\n",
    "\n",
    "df = pd.read_csv(\"data/comfort_data.csv.gz\",  compression='gzip')\n",
    "qry = [\"solar==0\",\n",
    "       \"days==14\",\n",
    "       \"strategy in ['no_control', 'smooth', 'single_bucket']\"]\n",
    "\n",
    "df = df.query(\" and \".join(qry))\n",
    "df.timestamp = pd.to_datetime(df.timestamp)\n",
    "df.shape\n",
    "\n",
    "# limit the data a bit...\n",
    "qry = [\"solar==0\",\n",
    "       \"days==14\",\n",
    "       \"feeder=='one'\",\n",
    "       \"control==0\",\n",
    "       \"season=='summer'\",\n",
    "       \"attribute=='shower demand 110'\",\n",
    "       \"strategy in ['no_control']\"]\n",
    "\n",
    "tmp = df.query(\" and \".join(qry))\n",
    "tmp.timestamp = pd.to_datetime(tmp.timestamp)"
   ]
  },
  {
   "cell_type": "markdown",
   "metadata": {},
   "source": [
    "## Question #2\n",
    "\n",
    "### What is the average cumulative % of customers impacted as a function of time?\n",
    "\n",
    "Count a customer as unsatisfied only once...\n",
    "\n",
    "(how many phone calls with the Vermont utility get)"
   ]
  },
  {
   "cell_type": "markdown",
   "metadata": {},
   "source": [
    "Warm up"
   ]
  },
  {
   "cell_type": "code",
   "execution_count": null,
   "metadata": {},
   "outputs": [],
   "source": [
    "counts = tmp.pivot_table(index='shift', columns=['day', 'name'], values='value', aggfunc='count')\n",
    "counts.head()"
   ]
  },
  {
   "cell_type": "markdown",
   "metadata": {},
   "source": [
    "We need a function that only counts the first instance of an event (cold shower)."
   ]
  },
  {
   "cell_type": "code",
   "execution_count": null,
   "metadata": {},
   "outputs": [],
   "source": [
    "counts[1, 'zmq_waterheater_194']"
   ]
  },
  {
   "cell_type": "code",
   "execution_count": null,
   "metadata": {},
   "outputs": [],
   "source": [
    "counts[1, 'zmq_waterheater_194'].first_valid_index()"
   ]
  },
  {
   "cell_type": "code",
   "execution_count": null,
   "metadata": {},
   "outputs": [],
   "source": [
    "counts[1, 'zmq_waterheater_194'].sum()"
   ]
  },
  {
   "cell_type": "code",
   "execution_count": null,
   "metadata": {},
   "outputs": [],
   "source": [
    "import numpy as np\n",
    "\n",
    "def fill_first_index(df):\n",
    "    zeros = np.zeros(df.shape[0])\n",
    "    index = df.first_valid_index()\n",
    "\n",
    "    if index is not None:\n",
    "        tmp = pd.Series(zeros, index=df.index)\n",
    "        tmp.loc[tmp.index==index] = 1.0\n",
    "        return tmp\n",
    "    \n",
    "    return pd.Series(zeros, index=df.index)"
   ]
  },
  {
   "cell_type": "code",
   "execution_count": null,
   "metadata": {},
   "outputs": [],
   "source": [
    "trial = counts[1, 'zmq_waterheater_194']\n",
    "\n",
    "trial.sum(), fill_first_index(trial).sum()"
   ]
  },
  {
   "cell_type": "markdown",
   "metadata": {},
   "source": [
    "We can `apply` this to the columns (`axis=0`) of our dataframe."
   ]
  },
  {
   "cell_type": "code",
   "execution_count": null,
   "metadata": {},
   "outputs": [],
   "source": [
    "final = counts.apply(fill_first_index, axis=0)\n",
    "final.head()"
   ]
  },
  {
   "cell_type": "markdown",
   "metadata": {},
   "source": [
    "Check that we only have a single value per day and waterheater"
   ]
  },
  {
   "cell_type": "code",
   "execution_count": null,
   "metadata": {},
   "outputs": [],
   "source": [
    "final.sum(axis=0).unique()"
   ]
  },
  {
   "cell_type": "code",
   "execution_count": null,
   "metadata": {},
   "outputs": [],
   "source": [
    "ax = final.sum(axis=1, level=0).cumsum().mean(axis=1).plot(lw=2, color='red')\n",
    "\n",
    "final.sum(axis=1, level=0).cumsum().plot(legend=False, color='lightgrey', ax=ax)"
   ]
  },
  {
   "cell_type": "markdown",
   "metadata": {},
   "source": [
    "Remember this number?"
   ]
  },
  {
   "cell_type": "markdown",
   "metadata": {},
   "source": [
    "### Multiple Scenarios "
   ]
  },
  {
   "cell_type": "code",
   "execution_count": null,
   "metadata": {},
   "outputs": [],
   "source": [
    "qry = [\"feeder=='one'\",\n",
    "       \"season=='summer'\",\n",
    "       \"attribute=='shower demand 110'\"]\n",
    "\n",
    "tmp = df.query(\" and \".join(qry))\n",
    "\n",
    "counts = tmp.pivot_table(index='shift', \n",
    "                         columns=['feeder', 'season', 'strategy', 'control', 'day', 'name'], \n",
    "                         values='value', aggfunc='count')\n",
    "counts.head()"
   ]
  },
  {
   "cell_type": "code",
   "execution_count": null,
   "metadata": {},
   "outputs": [],
   "source": [
    "first = counts.apply(fill_first_index, axis=0)\n",
    "first.head()"
   ]
  },
  {
   "cell_type": "code",
   "execution_count": null,
   "metadata": {},
   "outputs": [],
   "source": [
    "first.sum(axis=1, level=[0,1,2,3,4]).cumsum().head()"
   ]
  },
  {
   "cell_type": "code",
   "execution_count": null,
   "metadata": {},
   "outputs": [],
   "source": [
    "final = first.sum(axis=1, level=[0,1,2,3,4]).cumsum().mean(axis=1, level=[0,1,2,3])"
   ]
  },
  {
   "cell_type": "code",
   "execution_count": null,
   "metadata": {},
   "outputs": [],
   "source": [
    "final[('one', 'summer', 'no_control')].plot()"
   ]
  },
  {
   "cell_type": "code",
   "execution_count": null,
   "metadata": {},
   "outputs": [],
   "source": [
    "final[('one', 'summer')].plot()"
   ]
  },
  {
   "cell_type": "code",
   "execution_count": null,
   "metadata": {},
   "outputs": [],
   "source": []
  }
 ],
 "metadata": {
  "kernelspec": {
   "display_name": "Python 3",
   "language": "python",
   "name": "python3"
  },
  "language_info": {
   "codemirror_mode": {
    "name": "ipython",
    "version": 3
   },
   "file_extension": ".py",
   "mimetype": "text/x-python",
   "name": "python",
   "nbconvert_exporter": "python",
   "pygments_lexer": "ipython3",
   "version": "3.6.8"
  }
 },
 "nbformat": 4,
 "nbformat_minor": 2
}
