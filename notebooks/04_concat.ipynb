{
 "cells": [
  {
   "cell_type": "markdown",
   "metadata": {},
   "source": [
    "# Concat "
   ]
  },
  {
   "cell_type": "code",
   "execution_count": 29,
   "metadata": {},
   "outputs": [],
   "source": [
    "import pandas as pd\n",
    "\n",
    "import seaborn as sns\n",
    "import matplotlib.pyplot as plt\n",
    "\n",
    "sns.set(rc={'figure.figsize':(12,6)})\n",
    "plt.style.use(['seaborn-whitegrid'])\n",
    "\n",
    "import warnings\n",
    "warnings.simplefilter('ignore')\n",
    "\n",
    "import os\n",
    "import utils"
   ]
  },
  {
   "cell_type": "markdown",
   "metadata": {},
   "source": [
    "Our `read_csv` function."
   ]
  },
  {
   "cell_type": "markdown",
   "metadata": {},
   "source": [
    "```python\n",
    "    import pandas as pd\n",
    "\n",
    "    def read_csv(filename):\n",
    "        df = pd.read_csv(filename, skiprows=8)\n",
    "        df.rename(columns={'# timestamp': 'timestamp'}, inplace=True)\n",
    "        df['timestamp'] = pd.to_datetime(df['timestamp'])  #might not want this here\n",
    "        df.set_index('timestamp', inplace=True)\n",
    "        return df\n",
    "```"
   ]
  },
  {
   "cell_type": "code",
   "execution_count": 30,
   "metadata": {},
   "outputs": [],
   "source": [
    "filenames = ['data/measured_real_power.csv',\n",
    "             'data/measured_reactive_power.csv']"
   ]
  },
  {
   "cell_type": "markdown",
   "metadata": {},
   "source": [
    "Concat"
   ]
  },
  {
   "cell_type": "code",
   "execution_count": 31,
   "metadata": {},
   "outputs": [],
   "source": [
    "df1 = utils.read_csv(filenames[0])\n",
    "df2 = utils.read_csv(filenames[1])\n",
    "\n",
    "df = pd.concat([df1, df2], axis=1) # stack side by side"
   ]
  },
  {
   "cell_type": "code",
   "execution_count": 32,
   "metadata": {},
   "outputs": [
    {
     "data": {
      "text/plain": [
       "((259220, 4), (259220, 4), (259220, 8))"
      ]
     },
     "execution_count": 32,
     "metadata": {},
     "output_type": "execute_result"
    }
   ],
   "source": [
    "df1.shape, df2.shape, df.shape"
   ]
  },
  {
   "cell_type": "code",
   "execution_count": 33,
   "metadata": {},
   "outputs": [
    {
     "data": {
      "text/plain": [
       "4"
      ]
     },
     "execution_count": 33,
     "metadata": {},
     "output_type": "execute_result"
    }
   ],
   "source": [
    "len(set(df.columns))"
   ]
  },
  {
   "cell_type": "code",
   "execution_count": 34,
   "metadata": {},
   "outputs": [
    {
     "data": {
      "text/plain": [
       "True"
      ]
     },
     "execution_count": 34,
     "metadata": {},
     "output_type": "execute_result"
    }
   ],
   "source": [
    "all(df1.columns == df2.columns)"
   ]
  },
  {
   "cell_type": "markdown",
   "metadata": {},
   "source": [
    "So now we need to capture some additional information, the **prefix**"
   ]
  },
  {
   "cell_type": "code",
   "execution_count": 35,
   "metadata": {},
   "outputs": [
    {
     "data": {
      "text/plain": [
       "40"
      ]
     },
     "execution_count": 35,
     "metadata": {},
     "output_type": "execute_result"
    }
   ],
   "source": [
    "def read_csv(filename):\n",
    "    df = pd.read_csv(filename, skiprows=8)\n",
    "    df.rename(columns={'# timestamp': 'timestamp'}, inplace=True)\n",
    "    df.timestamp = pd.to_datetime(df.timestamp)\n",
    "    df.set_index('timestamp', inplace=True)\n",
    "    prefix = os.path.basename(filename).replace('.csv','')\n",
    "    df.columns = [ \"{}:{}\".format(prefix, x) for x in df.columns ]\n",
    "    return df\n",
    "\n",
    "df = pd.concat([ read_csv(x) for x in filenames ], axis=1)\n",
    "len(set(df.columns))"
   ]
  },
  {
   "cell_type": "code",
   "execution_count": 36,
   "metadata": {},
   "outputs": [
    {
     "data": {
      "text/plain": [
       "Index(['measured_real_power:triplex_meter_0',\n",
       "       'measured_real_power:triplex_meter_1',\n",
       "       'measured_real_power:triplex_meter_2',\n",
       "       'measured_real_power:triplex_meter_3',\n",
       "       'measured_real_power:triplex_meter_4',\n",
       "       'measured_real_power:triplex_meter_5',\n",
       "       'measured_real_power:triplex_meter_6',\n",
       "       'measured_real_power:triplex_meter_7',\n",
       "       'measured_real_power:triplex_meter_8',\n",
       "       'measured_real_power:triplex_meter_9',\n",
       "       'measured_real_power:triplex_meter_10',\n",
       "       'measured_real_power:triplex_meter_11',\n",
       "       'measured_real_power:triplex_meter_12',\n",
       "       'measured_real_power:triplex_meter_13',\n",
       "       'measured_real_power:triplex_meter_14',\n",
       "       'measured_real_power:triplex_meter_15',\n",
       "       'measured_real_power:triplex_meter_16',\n",
       "       'measured_real_power:triplex_meter_17',\n",
       "       'measured_real_power:triplex_meter_18',\n",
       "       'measured_real_power:triplex_meter_19',\n",
       "       'measured_reactive_power:triplex_meter_0',\n",
       "       'measured_reactive_power:triplex_meter_1',\n",
       "       'measured_reactive_power:triplex_meter_2',\n",
       "       'measured_reactive_power:triplex_meter_3',\n",
       "       'measured_reactive_power:triplex_meter_4',\n",
       "       'measured_reactive_power:triplex_meter_5',\n",
       "       'measured_reactive_power:triplex_meter_6',\n",
       "       'measured_reactive_power:triplex_meter_7',\n",
       "       'measured_reactive_power:triplex_meter_8',\n",
       "       'measured_reactive_power:triplex_meter_9',\n",
       "       'measured_reactive_power:triplex_meter_10',\n",
       "       'measured_reactive_power:triplex_meter_11',\n",
       "       'measured_reactive_power:triplex_meter_12',\n",
       "       'measured_reactive_power:triplex_meter_13',\n",
       "       'measured_reactive_power:triplex_meter_14',\n",
       "       'measured_reactive_power:triplex_meter_15',\n",
       "       'measured_reactive_power:triplex_meter_16',\n",
       "       'measured_reactive_power:triplex_meter_17',\n",
       "       'measured_reactive_power:triplex_meter_18',\n",
       "       'measured_reactive_power:triplex_meter_19'],\n",
       "      dtype='object')"
      ]
     },
     "execution_count": 36,
     "metadata": {},
     "output_type": "execute_result"
    }
   ],
   "source": [
    "df.columns"
   ]
  },
  {
   "cell_type": "markdown",
   "metadata": {},
   "source": [
    "## Glob "
   ]
  },
  {
   "cell_type": "code",
   "execution_count": 37,
   "metadata": {},
   "outputs": [],
   "source": [
    "import glob"
   ]
  },
  {
   "cell_type": "markdown",
   "metadata": {},
   "source": [
    "Create some additional files for scaling demonstration"
   ]
  },
  {
   "cell_type": "code",
   "execution_count": 42,
   "metadata": {},
   "outputs": [],
   "source": [
    "import os\n",
    "import shutil\n",
    "\n",
    "if os.path.exists(\"data/outputFiles\"):\n",
    "    shutil.rmtree(\"data/outputFiles\")\n",
    "os.mkdir(\"data/outputFiles\")\n",
    "\n",
    "for i in range(10):\n",
    "    shutil.copyfile(\"data/measured_reactive_power.csv\", \n",
    "                    \"data/outputFiles/measured_reactive_power_{}.csv\".format(i))\n",
    "    shutil.copyfile(\"data/measured_real_power.csv\", \n",
    "                    \"data/outputFiles/measured_real_power_{}.csv\".format(i))"
   ]
  },
  {
   "cell_type": "code",
   "execution_count": 43,
   "metadata": {},
   "outputs": [
    {
     "data": {
      "text/plain": [
       "['data/outputFiles/measured_reactive_power_9.csv',\n",
       " 'data/outputFiles/measured_real_power_8.csv',\n",
       " 'data/outputFiles/measured_real_power_9.csv',\n",
       " 'data/outputFiles/measured_reactive_power_8.csv',\n",
       " 'data/outputFiles/measured_reactive_power_6.csv',\n",
       " 'data/outputFiles/measured_real_power_7.csv',\n",
       " 'data/outputFiles/measured_real_power_6.csv',\n",
       " 'data/outputFiles/measured_reactive_power_7.csv',\n",
       " 'data/outputFiles/measured_reactive_power_5.csv',\n",
       " 'data/outputFiles/measured_real_power_4.csv',\n",
       " 'data/outputFiles/measured_real_power_5.csv',\n",
       " 'data/outputFiles/measured_reactive_power_4.csv',\n",
       " 'data/outputFiles/measured_reactive_power_0.csv',\n",
       " 'data/outputFiles/measured_real_power_1.csv',\n",
       " 'data/outputFiles/measured_real_power_0.csv',\n",
       " 'data/outputFiles/measured_reactive_power_1.csv',\n",
       " 'data/outputFiles/measured_reactive_power_3.csv',\n",
       " 'data/outputFiles/measured_real_power_2.csv',\n",
       " 'data/outputFiles/measured_real_power_3.csv',\n",
       " 'data/outputFiles/measured_reactive_power_2.csv']"
      ]
     },
     "execution_count": 43,
     "metadata": {},
     "output_type": "execute_result"
    }
   ],
   "source": [
    "filenames = glob.glob('data/outputFiles/*.csv')\n",
    "filenames"
   ]
  },
  {
   "cell_type": "code",
   "execution_count": 44,
   "metadata": {},
   "outputs": [
    {
     "data": {
      "text/plain": [
       "(12961, 400)"
      ]
     },
     "execution_count": 44,
     "metadata": {},
     "output_type": "execute_result"
    }
   ],
   "source": [
    "def read_dir(filenames):\n",
    "    return pd.concat([ read_csv(x) for x in filenames ], axis=1)\n",
    "\n",
    "read_dir(filenames).shape"
   ]
  },
  {
   "cell_type": "markdown",
   "metadata": {},
   "source": [
    "Takes a while... Can we do better?"
   ]
  },
  {
   "cell_type": "code",
   "execution_count": null,
   "metadata": {},
   "outputs": [],
   "source": [
    "import cProfile\n",
    "\n",
    "cProfile.run('read_dir(filenames)')"
   ]
  },
  {
   "cell_type": "code",
   "execution_count": null,
   "metadata": {},
   "outputs": [],
   "source": [
    "%%writefile utils.py\n",
    "import pandas as pd\n",
    "import os\n",
    "\n",
    "def read_csv(filename):\n",
    "    df = pd.read_csv(filename, skiprows=8)\n",
    "    df.rename(columns={'# timestamp': 'timestamp'}, inplace=True)\n",
    "    #df.timestamp = pd.to_datetime(df.timestamp) #hold off for now...\n",
    "    df.set_index('timestamp', inplace=True)\n",
    "    prefix = os.path.basename(filename).replace('.csv','')\n",
    "    df.columns = [ \"{}:{}\".format(prefix, x) for x in df.columns ] \n",
    "    return df\n",
    "\n",
    "def read_dir(filenames):\n",
    "    df = pd.concat([ read_csv(x) for x in filenames ], axis=1, sort=False)\n",
    "    df.index = pd.to_datetime(df.index)\n",
    "    return df"
   ]
  },
  {
   "cell_type": "code",
   "execution_count": null,
   "metadata": {},
   "outputs": [],
   "source": [
    "%load_ext autoreload\n",
    "%reload_ext autoreload"
   ]
  },
  {
   "cell_type": "code",
   "execution_count": null,
   "metadata": {},
   "outputs": [],
   "source": [
    "%autoreload 2\n",
    "import utils\n",
    "\n",
    "df = utils.read_dir(filenames)\n",
    "df.shape"
   ]
  },
  {
   "cell_type": "code",
   "execution_count": null,
   "metadata": {},
   "outputs": [],
   "source": [
    "df.head()"
   ]
  },
  {
   "cell_type": "markdown",
   "metadata": {
    "collapsed": true
   },
   "source": [
    "## The stacked method "
   ]
  },
  {
   "cell_type": "code",
   "execution_count": null,
   "metadata": {},
   "outputs": [],
   "source": [
    "filename = 'data/measured_real_power.csv'\n",
    "\n",
    "df = pd.read_csv(filename, skiprows=8)\n",
    "df.rename(columns={'# timestamp': 'timestamp'}, inplace=True)\n",
    "df = df.melt(id_vars='timestamp')\n",
    "df.head()"
   ]
  },
  {
   "cell_type": "code",
   "execution_count": null,
   "metadata": {},
   "outputs": [],
   "source": [
    "prefix = os.path.basename(filename).replace('.csv','')\n",
    "df['attribute'] = prefix\n",
    "df.head()"
   ]
  },
  {
   "cell_type": "markdown",
   "metadata": {},
   "source": [
    "We can stack this with concat"
   ]
  },
  {
   "cell_type": "code",
   "execution_count": null,
   "metadata": {},
   "outputs": [],
   "source": [
    "%%writefile utils.py\n",
    "import pandas as pd\n",
    "import os\n",
    "\n",
    "def read_csv(filename):\n",
    "    df = pd.read_csv(filename, skiprows=8)\n",
    "    df.rename(columns={'# timestamp': 'timestamp'}, inplace=True)\n",
    "    df = df.melt(id_vars='timestamp')\n",
    "    prefix = os.path.basename(filename).replace('.csv','')\n",
    "    df['attribute'] = prefix\n",
    "    return df\n",
    "\n",
    "def read_dir(filenames):\n",
    "    df = pd.concat([ read_csv(x) for x in filenames ], axis=0, sort=False)  # axis = 0 for stacking\n",
    "    #df.index = pd.to_datetime(df.index)\n",
    "    return df"
   ]
  },
  {
   "cell_type": "code",
   "execution_count": null,
   "metadata": {},
   "outputs": [],
   "source": [
    "%autoreload 2\n",
    "import utils\n",
    "\n",
    "df = utils.read_dir(filenames)\n",
    "df.shape"
   ]
  },
  {
   "cell_type": "code",
   "execution_count": null,
   "metadata": {},
   "outputs": [],
   "source": [
    "# takes a really long time....\n",
    "#df.timestamp = pd.to_datetime(df.timestamp)"
   ]
  },
  {
   "cell_type": "markdown",
   "metadata": {},
   "source": [
    "Reshaping can help..."
   ]
  },
  {
   "cell_type": "code",
   "execution_count": null,
   "metadata": {},
   "outputs": [],
   "source": [
    "tmp = df.pivot_table(index='timestamp', columns=['variable', 'attribute'], values='value')\n",
    "print(tmp.shape)\n",
    "df.index = pd.to_datetime(df.index)\n",
    "final = tmp.reset_index().melt(id_vars='timestamp')\n",
    "final.shape"
   ]
  },
  {
   "cell_type": "code",
   "execution_count": null,
   "metadata": {},
   "outputs": [],
   "source": [
    "%%writefile utils.py\n",
    "import pandas as pd\n",
    "import os\n",
    "\n",
    "def read_csv(filename):\n",
    "    df = pd.read_csv(filename, skiprows=8)\n",
    "    df.rename(columns={'# timestamp': 'timestamp'}, inplace=True)\n",
    "    df = df.melt(id_vars='timestamp')\n",
    "    prefix = os.path.basename(filename).replace('.csv','')\n",
    "    df['attribute'] = prefix\n",
    "    return df\n",
    "\n",
    "def read_dir(filenames):\n",
    "    df = pd.concat([ read_csv(x) for x in filenames ], axis=0, sort=False)  # axis = 0 for stacking\n",
    "    #df.index = pd.to_datetime(df.index)\n",
    "    tmp = df.pivot_table(index='timestamp', columns=['variable', 'attribute'], values='value')\n",
    "    tmp.index = pd.to_datetime(tmp.index)\n",
    "    final = tmp.reset_index().melt(id_vars='timestamp')\n",
    "    return final"
   ]
  },
  {
   "cell_type": "code",
   "execution_count": null,
   "metadata": {},
   "outputs": [],
   "source": []
  }
 ],
 "metadata": {
  "kernelspec": {
   "display_name": "Python 3",
   "language": "python",
   "name": "python3"
  },
  "language_info": {
   "codemirror_mode": {
    "name": "ipython",
    "version": 3
   },
   "file_extension": ".py",
   "mimetype": "text/x-python",
   "name": "python",
   "nbconvert_exporter": "python",
   "pygments_lexer": "ipython3",
   "version": "3.6.8"
  }
 },
 "nbformat": 4,
 "nbformat_minor": 1
}
